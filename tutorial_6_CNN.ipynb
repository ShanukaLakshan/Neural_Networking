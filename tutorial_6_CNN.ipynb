{
  "nbformat": 4,
  "nbformat_minor": 2,
  "metadata": {
    "kernelspec": {
      "name": "python3",
      "language": "python",
      "display_name": "Python 3"
    },
    "language_info": {
      "codemirror_mode": {
        "name": "ipython",
        "version": 2
      },
      "file_extension": ".py",
      "mimetype": "text/x-python",
      "name": "python",
      "nbconvert_exporter": "python",
      "pygments_lexer": "ipython2",
      "version": "2.7.6"
    },
    "colab": {
      "name": "tutorial_6_CNN.ipynb",
      "provenance": [],
      "collapsed_sections": [],
      "include_colab_link": true
    },
    "accelerator": "GPU"
  },
  "cells": [
    {
      "cell_type": "markdown",
      "source": [
        "<a href=\"https://colab.research.google.com/github/jeshraghian/snntorch/blob/master/examples/tutorial_6_CNN.ipynb\" target=\"_parent\"><img src=\"https://colab.research.google.com/assets/colab-badge.svg\" alt=\"Open In Colab\"/></a>"
      ],
      "metadata": {
        "id": "view-in-github",
        "colab_type": "text"
      }
    },
    {
      "cell_type": "markdown",
      "source": [
        "[<img src='https://github.com/jeshraghian/snntorch/blob/master/docs/_static/img/snntorch_alpha_w.png?raw=true' width=\"400\">](https://github.com/jeshraghian/snntorch/)\r\n",
        "\r\n",
        "# snnTorch - Surrogate Gradient Descent in a Convolutional Spiking Neural Network\r\n",
        "## Tutorial 6\r\n",
        "### By Jason K. Eshraghian (www.jasoneshraghian.com)\r\n",
        "\r\n",
        "<a href=\"https://colab.research.google.com/github/jeshraghian/snntorch/blob/master/examples/tutorial_6_CNN.ipynb\">\r\n",
        "  <img src=\"https://colab.research.google.com/assets/colab-badge.svg\" alt=\"Open In Colab\"/>\r\n",
        "</a>\r\n",
        "\r\n",
        "[<img src='https://github.com/jeshraghian/snntorch/blob/master/docs/_static/img/GitHub-Mark-Light-120px-plus.png?raw=true' width=\"28\">](https://github.com/jeshraghian/snntorch/) [<img src='https://github.com/jeshraghian/snntorch/blob/master/docs/_static/img/GitHub_Logo_White.png?raw=true' width=\"80\">](https://github.com/jeshraghian/snntorch/)"
      ],
      "metadata": {
        "collapsed": false,
        "pycharm": {
          "name": "#%% md\n"
        },
        "id": "uSGZ6cdmpknm"
      }
    },
    {
      "cell_type": "markdown",
      "source": [
        "The snnTorch tutorial series is based on the following paper. If you find these resources or code useful in your work, please consider citing the following source:\r\n",
        "\r\n",
        "> <cite> [Jason K. Eshraghian, Max Ward, Emre Neftci, Xinxin Wang, Gregor Lenz, Girish Dwivedi, Mohammed Bennamoun, Doo Seok Jeong, and Wei D. Lu. \"Training Spiking Neural Networks Using Lessons From Deep Learning\". arXiv preprint arXiv:2109.12894, September 2021.](https://arxiv.org/abs/2109.12894) </cite>\r\n"
      ],
      "metadata": {
        "id": "rugeYYiqsrlc"
      }
    },
    {
      "cell_type": "markdown",
      "source": [
        "# Introduction\r\n",
        "In this tutorial, you will:\r\n",
        "* Learn how to use surrogate gradient descent to overcome the dead neuron problem\r\n",
        "* Construct and train a convolutional spiking neural network\r\n",
        "* Use a sequential container, `nn.Sequential` to simplify model construction\r\n",
        "* Use the `snn.backprop` module to reduce the time it takes to design a neural network\r\n",
        "\r\n",
        "Part of this tutorial was inspired by Friedemann Zenke’s extensive\r\n",
        "work on SNNs. Check out his repo on surrogate gradients\r\n",
        "[here](https://github.coRm/fzenke/spytorch), and a favourite paper\r\n",
        "of mine: E. O. Neftci, H. Mostafa, F. Zenke, [Surrogate Gradient\r\n",
        "Learning in Spiking Neural Networks: Bringing the Power of\r\n",
        "Gradient-based optimization to spiking neural\r\n",
        "networks.](https://ieeexplore.ieee.org/document/8891809) IEEE\r\n",
        "Signal Processing Magazine 36, 51–63.\r\n",
        "\r\n",
        "At the end of the tutorial, we will train a convolutional spiking neural network (CSNN) using the MNIST dataset to perform image classification. The background theory follows on from [Tutorials 2, 4 and 5](https://snntorch.readthedocs.io/en/latest/tutorials/index.html), so feel free to go back if you need to brush up.\r\n",
        "\r\n",
        "If running in Google Colab:\r\n",
        "* You may connect to GPU by checking `Runtime` > `Change runtime type` > `Hardware accelerator: GPU`\r\n",
        "* Next, install the latest PyPi distribution of snnTorch by clicking into the following cell and pressing `Shift+Enter`."
      ],
      "metadata": {
        "id": "Ymi3sqJg28OQ"
      }
    },
    {
      "cell_type": "code",
      "execution_count": null,
      "source": [
        "!pip install snntorch"
      ],
      "outputs": [],
      "metadata": {
        "pycharm": {
          "name": "#%%\n"
        },
        "id": "5tn_wUlopkon"
      }
    },
    {
      "cell_type": "code",
      "execution_count": null,
      "source": [
        "# imports\r\n",
        "import snntorch as snn\r\n",
        "from snntorch import surrogate\r\n",
        "from snntorch import backprop\r\n",
        "from snntorch import functional as SF\r\n",
        "from snntorch import utils\r\n",
        "from snntorch import spikeplot as splt\r\n",
        "\r\n",
        "import torch\r\n",
        "import torch.nn as nn\r\n",
        "from torch.utils.data import DataLoader\r\n",
        "from torchvision import datasets, transforms\r\n",
        "import torch.nn.functional as F\r\n",
        "\r\n",
        "import matplotlib.pyplot as plt\r\n",
        "import numpy as np\r\n",
        "import itertools"
      ],
      "outputs": [],
      "metadata": {
        "id": "QXZ6Tuqc9Q-l"
      }
    },
    {
      "cell_type": "markdown",
      "source": [
        "# 1. Surrogate Gradient Descent"
      ],
      "metadata": {
        "id": "gt2xMbLY9dVE"
      }
    },
    {
      "cell_type": "markdown",
      "source": [
        "[Tutorial 5](https://snntorch.readthedocs.io/en/latest/tutorials/index.html) raised the **dead neuron problem**. This arises because of the non-differentiability of spikes:\r\n",
        "\r\n",
        "\r\n",
        "$$S[t] = \\Theta(U[t] - U_{\\rm thr}) \\tag{1}$$ \r\n",
        "$$\\frac{\\partial S}{\\partial U} = \\delta(U - U_{\\rm thr}) \\in \\{0, \\infty\\} \\tag{2}$$ \r\n",
        "\r\n",
        "where $\\Theta(\\cdot)$ is the Heaviside step function, and $\\delta(\\cdot)$ is the Dirac-Delta function. We previously overcame this using the *Spike-Operator* approach, by assigning the spike to the derivative term: $\\partial \\tilde{S}/\\partial U \\leftarrow S \\in \\{0, 1\\}$. Another approach is to smooth the Heaviside function during the backward pass, which correspondingly smooths out the gradient of the Heaviside function. \r\n",
        "\r\n",
        "Common smoothing functions include the sigmoid function, or the fast sigmoid function. The sigmoidal functions must also be shifted such that they are centered at the threshold $U_{\\rm thr}$. Defining  the overdrive of the membrane potential as $U_{OD} = U - U_{\\rm thr}$:\r\n",
        "\r\n",
        "$$\\tilde{S} = \\frac{U_{OD}}{1+k|U_{OD}|} \\tag{3}$$\r\n",
        "$$\\frac{\\partial \\tilde{S}}{\\partial U} = \\frac{1}{(k|U_{OD}|+1)^2}\\tag{4}$$\r\n",
        "\r\n",
        "where $k$ modulates how smooth the surrogate function is, and is treated as a hyperparameter. As $k$ increases, the approximation converges towards the original derivative in $(2)$:  \r\n",
        "\r\n",
        "$$\\frac{\\partial \\tilde{S}}{\\partial U} \\Bigg|_{k \\rightarrow \\infty} = \\delta(U-U_{\\rm thr})$$ \r\n",
        "\r\n",
        "\r\n",
        "<center>\r\n",
        "<img src='https://github.com/jeshraghian/snntorch/blob/master/docs/_static/img/examples/tutorial6/surrogate.png?raw=true' width=\"800\">\r\n",
        "</center>\r\n",
        "\r\n",
        "To summarize:\r\n",
        "\r\n",
        "* **Forward Pass**\r\n",
        "  - Determine $S$ using the shifted Heaviside function in $(1)$\r\n",
        "  - Store $U$ for later use during the backward pass\r\n",
        "* **Backward Pass**\r\n",
        "  - Pass $U$ into $(4)$ to calculate the derivative term\r\n",
        "\r\n",
        "In the same way the *Spike Operator* approach was used in [Tutorial 5](https://snntorch.readthedocs.io/en/latest/tutorials/index.html), \r\n",
        "the gradient of the fast sigmoid function can override the Dirac-Delta function in a Leaky Integrate-and-Fire\r\n",
        "(LIF) neuron model:"
      ],
      "metadata": {
        "id": "zJddJWoa0GT6"
      }
    },
    {
      "cell_type": "code",
      "execution_count": null,
      "source": [
        "# Leaky neuron model, overriding the backward pass with a custom function\r\n",
        "class LeakySigmoidSurrogate(nn.Module):\r\n",
        "  def __init__(self, beta, threshold=1.0, k=25):\r\n",
        "      super(Leaky_Surrogate, self).__init__()\r\n",
        "\r\n",
        "      # initialize decay rate beta and threshold\r\n",
        "      self.beta = beta\r\n",
        "      self.threshold = threshold\r\n",
        "      self.surrogate_func = self.FastSigmoid.apply\r\n",
        "  \r\n",
        "  # the forward function is called each time we call Leaky\r\n",
        "  def forward(self, input_, mem):\r\n",
        "    spk = self.surrogate_func((mem-self.threshold))  # call the Heaviside function\r\n",
        "    reset = (spk - self.threshold).detach()\r\n",
        "    mem = self.beta * mem + input_ - reset\r\n",
        "    return spk, mem\r\n",
        "\r\n",
        "  # Forward pass: Heaviside function\r\n",
        "  # Backward pass: Override Dirac Delta with gradient of fast sigmoid\r\n",
        "  @staticmethod\r\n",
        "  class FastSigmoid(torch.autograd.Function):  \r\n",
        "    @staticmethod\r\n",
        "    def forward(ctx, mem, k=25):\r\n",
        "        ctx.save_for_backward(mem) # store the membrane potential for use in the backward pass\r\n",
        "        ctx.k = k\r\n",
        "        out = (mem > 0).float() # Heaviside on the forward pass: Eq(1)\r\n",
        "        return out\r\n",
        "\r\n",
        "    @staticmethod\r\n",
        "    def backward(ctx, grad_output): \r\n",
        "        (mem,) = ctx.saved_tensors  # retrieve membrane potential\r\n",
        "        grad_input = grad_output.clone()\r\n",
        "        grad = grad_input / (ctx.k * torch.abs(mem) + 1.0) ** 2  # gradient of fast sigmoid on backward pass: Eq(4)\r\n",
        "        return grad, None"
      ],
      "outputs": [],
      "metadata": {
        "id": "5lqpuT--bZmJ"
      }
    },
    {
      "cell_type": "markdown",
      "source": [
        "Better yet, all of that can be condensed by using the built-in module `snn.surrogate` from snnTorch, where $k$ from $(4)$ is denoted `slope`. The surrogate gradient is passed into `spike_grad` as an argument:"
      ],
      "metadata": {
        "id": "4aQvFG7ajpzU"
      }
    },
    {
      "cell_type": "code",
      "execution_count": null,
      "source": [
        "spike_grad = surrogate.fast_sigmoid(slope=25)\r\n",
        "beta = 0.5\r\n",
        "\r\n",
        "lif1 = snn.Leaky(beta=beta, spike_grad=spike_grad)"
      ],
      "outputs": [],
      "metadata": {
        "id": "2dCWD_qajyLw"
      }
    },
    {
      "cell_type": "markdown",
      "source": [
        "To explore the other surrogate gradient functions available, [take a look at the documentation here.](https://snntorch.readthedocs.io/en/latest/snntorch.surrogate.html)"
      ],
      "metadata": {
        "id": "Ffn7D6omkj5r"
      }
    },
    {
      "cell_type": "markdown",
      "source": [
        "# 2. Setting up the CSNN\r\n",
        "## 2.1 DataLoaders\r\n",
        "Note that `utils.data_subset()` is called to reduce the size of the dataset by a factor of 10 to speed up training."
      ],
      "metadata": {
        "id": "Wgzf83HE2BeB"
      }
    },
    {
      "cell_type": "code",
      "execution_count": null,
      "source": [
        "# dataloader arguments\r\n",
        "batch_size = 128\r\n",
        "data_path='/data/mnist'\r\n",
        "subset=10\r\n",
        "\r\n",
        "dtype = torch.float\r\n",
        "device = torch.device(\"cuda\") if torch.cuda.is_available() else torch.device(\"cpu\")"
      ],
      "outputs": [],
      "metadata": {
        "id": "pxO32dntlOB2"
      }
    },
    {
      "cell_type": "code",
      "execution_count": null,
      "source": [
        "# Define a transform\r\n",
        "transform = transforms.Compose([\r\n",
        "            transforms.Resize((28, 28)),\r\n",
        "            transforms.Grayscale(),\r\n",
        "            transforms.ToTensor(),\r\n",
        "            transforms.Normalize((0,), (1,))])\r\n",
        "\r\n",
        "mnist_train = datasets.MNIST(data_path, train=True, download=True, transform=transform)\r\n",
        "mnist_test = datasets.MNIST(data_path, train=False, download=True, transform=transform)\r\n",
        "\r\n",
        "# reduce datasets by 10x to speed up training\r\n",
        "utils.data_subset(mnist_train, subset)\r\n",
        "utils.data_subset(mnist_test, subset)\r\n",
        "\r\n",
        "# Create DataLoaders\r\n",
        "train_loader = DataLoader(mnist_train, batch_size=batch_size, shuffle=True, drop_last=True)\r\n",
        "test_loader = DataLoader(mnist_test, batch_size=batch_size, shuffle=True, drop_last=True)"
      ],
      "outputs": [],
      "metadata": {
        "id": "pE7eGTnulSBA"
      }
    },
    {
      "cell_type": "markdown",
      "source": [
        "## 2.2 Define the Network\r\n",
        "\r\n",
        "The convolutional network architecture to be used is: 12C5-MP2-64C5-MP2-1024FC10\r\n",
        "\r\n",
        "- 12C5 is a 5$\\times$5 convolutional kernel with 12 filters\r\n",
        "- MP2 is a 2$\\times$2 max-pooling function\r\n",
        "- 1024FC10 is a fully-connected layer that maps 1,024 neurons to 10 outputs"
      ],
      "metadata": {
        "id": "6v8fBXrVlY3f"
      }
    },
    {
      "cell_type": "code",
      "execution_count": null,
      "source": [
        "# neuron and simulation parameters\r\n",
        "spike_grad = surrogate.fast_sigmoid(slope=25)\r\n",
        "beta = 0.5\r\n",
        "num_steps = 50"
      ],
      "outputs": [],
      "metadata": {
        "id": "foos_NlopDrb"
      }
    },
    {
      "cell_type": "code",
      "execution_count": null,
      "source": [
        "# Define Network\r\n",
        "class Net(nn.Module):\r\n",
        "    def __init__(self):\r\n",
        "        super().__init__()\r\n",
        "\r\n",
        "        # Initialize layers\r\n",
        "        self.conv1 = nn.Conv2d(1, 12, 5)\r\n",
        "        self.lif1 = snn.Leaky(beta=beta, spike_grad=spike_grad)\r\n",
        "        self.conv2 = nn.Conv2d(12, 64, 5)\r\n",
        "        self.lif2 = snn.Leaky(beta=beta, spike_grad=spike_grad)\r\n",
        "        self.fc1 = nn.Linear(64*4*4, 10)\r\n",
        "        self.lif3 = snn.Leaky(beta=beta, spike_grad=spike_grad)\r\n",
        "\r\n",
        "    def forward(self, x):\r\n",
        "\r\n",
        "        # Initialize hidden states and outputs at t=0\r\n",
        "        mem1 = self.lif1.init_leaky()\r\n",
        "        mem2 = self.lif2.init_leaky() \r\n",
        "        mem3 = self.lif3.init_leaky()\r\n",
        "\r\n",
        "        # Record the final layer\r\n",
        "        spk3_rec = []\r\n",
        "        mem3_rec = []\r\n",
        "\r\n",
        "        for step in range(num_steps):\r\n",
        "            cur1 = F.max_pool2d(self.conv1(x), 2)\r\n",
        "            spk1, mem1 = self.lif1(cur1, mem1)\r\n",
        "            cur2 = F.max_pool2d(self.conv2(spk1), 2)\r\n",
        "            spk2, mem2 = self.lif2(cur2, mem2)\r\n",
        "            cur3 = self.fc1(spk2.view(batch_size, -1))\r\n",
        "            spk3, mem3 = self.lif3(cur3, mem3)\r\n",
        "\r\n",
        "            spk3_rec.append(spk3)\r\n",
        "            mem3_rec.append(mem3)\r\n",
        "\r\n",
        "        return torch.stack(spk3_rec), torch.stack(mem3_rec)"
      ],
      "outputs": [],
      "metadata": {
        "id": "X4sd8PDSlGZb"
      }
    },
    {
      "cell_type": "markdown",
      "source": [
        "In the previous tutorial, the network was wrapped inside of a class, as shown above. \r\n",
        "With increasing network complexity, this adds a lot of boilerplate code that we might wish to avoid. Alternatively, the `nn.Sequential` method can be used instead:"
      ],
      "metadata": {
        "id": "HVn3aYAUnWqH"
      }
    },
    {
      "cell_type": "code",
      "execution_count": null,
      "source": [
        "#  Initialize Network\r\n",
        "net = nn.Sequential(nn.Conv2d(1, 12, 5),\r\n",
        "                    nn.MaxPool2d(2),\r\n",
        "                    snn.Leaky(beta=beta, spike_grad=spike_grad, init_hidden=True),\r\n",
        "                    nn.Conv2d(12, 64, 5),\r\n",
        "                    nn.MaxPool2d(2),\r\n",
        "                    snn.Leaky(beta=beta, spike_grad=spike_grad, init_hidden=True),\r\n",
        "                    nn.Flatten(),\r\n",
        "                    nn.Linear(64*4*4, 10),\r\n",
        "                    snn.Leaky(beta=beta, spike_grad=spike_grad, init_hidden=True, output=True)\r\n",
        "                    ).to(device)"
      ],
      "outputs": [],
      "metadata": {
        "id": "AoYBY89angvp"
      }
    },
    {
      "cell_type": "markdown",
      "source": [
        "\r\n",
        "The `init_hidden` argument initializes the hidden states of the neuron (here, membrane potential). This takes place in the background as an instance variable. \r\n",
        "If `init_hidden` is activated, the membrane potential is not explicitly returned to the user, ensuring only the output spikes are sequentially passed through the layers wrapped in `nn.Sequential`. \r\n",
        "\r\n",
        "To train a model using the final layer's membrane potential, set the argument `output=True`. \r\n",
        "This enables the final layer to return both the spike and membrane potential response of the neuron."
      ],
      "metadata": {
        "id": "7Qgw1dRmpOlo"
      }
    },
    {
      "cell_type": "markdown",
      "source": [
        "## 2.3 Forward-Pass\n",
        "A forward pass across a simulation duration of `num_steps` looks like this:"
      ],
      "metadata": {
        "id": "A-bCSQmBstvd"
      }
    },
    {
      "cell_type": "code",
      "execution_count": null,
      "source": [
        "data, targets = next(iter(train_loader))\r\n",
        "data = data.to(device)\r\n",
        "targets = targets.to(device)\r\n",
        "\r\n",
        "for step in range(num_steps):\r\n",
        "    spk_out, mem_out = net(data)"
      ],
      "outputs": [],
      "metadata": {
        "id": "IxPPMND-pMxE"
      }
    },
    {
      "cell_type": "markdown",
      "source": [
        "Wrap that in a function, recording the membrane potential and spike response over time:"
      ],
      "metadata": {
        "id": "C3PxtCobuH_e"
      }
    },
    {
      "cell_type": "code",
      "execution_count": null,
      "source": [
        "def forward_pass(net, num_steps, data):\r\n",
        "  mem_rec = []\r\n",
        "  spk_rec = []\r\n",
        "  utils.reset(net)  # resets hidden states for all LIF neurons in net\r\n",
        "\r\n",
        "  for step in range(num_steps):\r\n",
        "      spk_out, mem_out = net(data)\r\n",
        "      spk_rec.append(spk_out)\r\n",
        "      mem_rec.append(mem_out)\r\n",
        "  \r\n",
        "  return torch.stack(spk_rec), torch.stack(mem_rec)"
      ],
      "outputs": [],
      "metadata": {
        "id": "ykdnD3tRuHcs"
      }
    },
    {
      "cell_type": "code",
      "execution_count": null,
      "source": [
        "spk_rec, mem_rec = forward_pass(net, num_steps, data)"
      ],
      "outputs": [],
      "metadata": {
        "id": "unJrx3pXcXii"
      }
    },
    {
      "cell_type": "markdown",
      "source": [
        "# 3. Training Loop"
      ],
      "metadata": {
        "id": "zqJdfllYbc16"
      }
    },
    {
      "cell_type": "markdown",
      "source": [
        "## 3.1 Loss Using snn.Functional"
      ],
      "metadata": {
        "id": "x-kquOWLY1Jo"
      }
    },
    {
      "cell_type": "markdown",
      "source": [
        "In the previous tutorial, the Cross Entropy Loss between the membrane potential of the output neurons and the target was used to train the network. \r\n",
        "This time, the total number of spikes from each neuron will be used to calculate the Cross Entropy instead.\r\n",
        "\r\n",
        "A variety of loss functions are included in the `snn.functional` module, which is analogous to `torch.nn.functional` in PyTorch. \r\n",
        "These implement a mix of cross entropy and mean square error losses, are applied to spikes and/or membrane potential, to train a rate or latency-coded network. \r\n",
        "\r\n",
        "The approach below applies the cross entropy loss to the output spike count in order train a rate-coded network:"
      ],
      "metadata": {
        "id": "MlA56BgOYq1D"
      }
    },
    {
      "cell_type": "code",
      "execution_count": null,
      "source": [
        "# already imported snntorch.functional as SF \r\n",
        "loss_fn = SF.ce_rate_loss()"
      ],
      "outputs": [],
      "metadata": {
        "id": "UZ2BM6d6a11l"
      }
    },
    {
      "cell_type": "markdown",
      "source": [
        "The recordings of the spike are passed as the first argument to `loss_fn`, and the target neuron index as the second argument to generate a loss. [The documentation provides further information and exmaples.](https://snntorch.readthedocs.io/en/latest/snntorch.functional.html#snntorch.functional.ce_rate_loss)"
      ],
      "metadata": {
        "id": "q39HCIeOa4fC"
      }
    },
    {
      "cell_type": "code",
      "execution_count": null,
      "source": [
        "loss_val = loss_fn(spk_rec, targets)\r\n",
        "\r\n",
        "print(f\"The loss from an untrained network is {loss_val.item():.3f}\")"
      ],
      "outputs": [],
      "metadata": {
        "id": "xEVzMvujcjsE"
      }
    },
    {
      "cell_type": "markdown",
      "source": [
        "## 3.2 Accuracy Using snn.Functional\r\n",
        "The `SF.accuracy_rate()` function works similarly, in that the predicted output spikes and actual targets are supplied as arguments. `accuracy_rate` assumes a rate code is used to interpret the output by checking if the index of the neuron with the highest spike count matches the target index."
      ],
      "metadata": {
        "id": "HS_zeb5mbqjw"
      }
    },
    {
      "cell_type": "code",
      "execution_count": null,
      "source": [
        "acc = SF.accuracy_rate(spk_rec, targets)\r\n",
        "\r\n",
        "print(f\"The accuracy of a single batch using an untrained network is {acc*100:.3f}%\")"
      ],
      "outputs": [],
      "metadata": {
        "id": "yq7_rly0c9b4"
      }
    },
    {
      "cell_type": "markdown",
      "source": [
        "As the above function only returns the accuracy of a single batch of data, the following function returns the accuracy on the entire DataLoader object:"
      ],
      "metadata": {
        "id": "r4Z6bnqCdL50"
      }
    },
    {
      "cell_type": "code",
      "execution_count": null,
      "source": [
        "def batch_accuracy(train_loader, net, num_steps):\r\n",
        "  with torch.no_grad():\r\n",
        "    total = 0\r\n",
        "    acc = 0\r\n",
        "    net.eval()\r\n",
        "    \r\n",
        "    train_loader = iter(train_loader)\r\n",
        "    for data, targets in train_loader:\r\n",
        "      data = data.to(device)\r\n",
        "      targets = targets.to(device)\r\n",
        "      spk_rec, _ = forward_pass(net, num_steps, data)\r\n",
        "\r\n",
        "      acc += SF.accuracy_rate(spk_rec, targets) * spk_rec.size(1)\r\n",
        "      total += spk_rec.size(1)\r\n",
        "\r\n",
        "  return acc/total"
      ],
      "outputs": [],
      "metadata": {
        "id": "IqxDKFvrdXuF"
      }
    },
    {
      "cell_type": "code",
      "execution_count": null,
      "source": [
        "test_acc = batch_accuracy(test_loader, net, num_steps)\r\n",
        "\r\n",
        "print(f\"The total accuracy on the test set is: {test_acc * 100:.2f}%\")"
      ],
      "outputs": [],
      "metadata": {
        "id": "_u43hKAvefWM"
      }
    },
    {
      "cell_type": "markdown",
      "source": [
        "## 3.3 Training Automation Using snn.backprop"
      ],
      "metadata": {
        "id": "F1pzWXlsYoIu"
      }
    },
    {
      "cell_type": "markdown",
      "source": [
        "Training SNNs can become arduous even with simple networks, so the `snn.backprop` module is here to reduce some of this effort.\r\n",
        "\r\n",
        "The `backprop.BPTT` function automatically performs a single epoch of training, where you need only provide the training parameters, dataloader, and several other arguments. \r\n",
        "The average loss across iterations is returned. \r\n",
        "The argument `time_var` indicates whether the input data is time-varying. \r\n",
        "As we are using the MNIST dataset, we explicitly specify `time_var=False`. \r\n",
        "\r\n",
        "The following code block may take a while to run. If you are not connected to GPU, then consider reducing `num_epochs`."
      ],
      "metadata": {
        "id": "KAUDYl3gf0G-"
      }
    },
    {
      "cell_type": "code",
      "execution_count": null,
      "source": [
        "optimizer = torch.optim.Adam(net.parameters(), lr=1e-2, betas=(0.9, 0.999))\r\n",
        "num_epochs = 10\r\n",
        "test_acc_hist = []\r\n",
        "\r\n",
        "# training loop\r\n",
        "for epoch in range(num_epochs):\r\n",
        "\r\n",
        "    avg_loss = backprop.BPTT(net, train_loader, num_steps=num_steps,\r\n",
        "                          optimizer=optimizer, criterion=loss_fn, time_var=False, device=device)\r\n",
        "    \r\n",
        "    print(f\"Epoch {epoch}, Train Loss: {avg_loss.item():.2f}\")\r\n",
        "\r\n",
        "    # Test set accuracy\r\n",
        "    test_acc = batch_accuracy(train_loader, net, num_steps)\r\n",
        "    test_acc_hist.append(test_acc)\r\n",
        "\r\n",
        "    print(f\"Epoch {epoch}, Test Acc: {test_acc * 100:.2f}%\\n\")"
      ],
      "outputs": [],
      "metadata": {
        "id": "dnS4wYyh0bdb"
      }
    },
    {
      "cell_type": "markdown",
      "source": [
        "Despite having selected some fairly generic values and architectures, the test set accuracy should be fairly competitive given the brief training run!"
      ],
      "metadata": {
        "id": "TjRPDFWxj2eS"
      }
    },
    {
      "cell_type": "markdown",
      "source": [
        "# 4. Results\n",
        "## 4.1 Plot Test Accuracy"
      ],
      "metadata": {
        "collapsed": false,
        "pycharm": {
          "name": "#%% md\n"
        },
        "id": "HxU7P7xFpko3"
      }
    },
    {
      "cell_type": "code",
      "execution_count": null,
      "source": [
        "# Plot Loss\r\n",
        "fig = plt.figure(facecolor=\"w\")\r\n",
        "plt.plot(test_acc_hist)\r\n",
        "plt.title(\"Test Set Accuracy\")\r\n",
        "plt.xlabel(\"Epoch\")\r\n",
        "plt.ylabel(\"Accuracy\")\r\n",
        "plt.show()"
      ],
      "outputs": [],
      "metadata": {
        "pycharm": {
          "name": "#%%\n"
        },
        "id": "_Pk_EScnpkpj"
      }
    },
    {
      "cell_type": "markdown",
      "source": [
        "## 4.2 Spike Counter"
      ],
      "metadata": {
        "id": "nYFamUJLkVY3"
      }
    },
    {
      "cell_type": "markdown",
      "source": [
        "Run a forward pass on a batch of data to obtain spike and membrane readings."
      ],
      "metadata": {
        "id": "MDE3ms9ulo-t"
      }
    },
    {
      "cell_type": "code",
      "execution_count": null,
      "source": [
        "spk_rec, mem_rec = forward_pass(net, num_steps, data)"
      ],
      "outputs": [],
      "metadata": {
        "id": "dqIjaw1kk4-6"
      }
    },
    {
      "cell_type": "markdown",
      "source": [
        "Changing `idx` allows you to index into various samples from the simulated minibatch. Use `splt.spike_count` to explore the spiking behaviour of a few different samples!\r\n",
        "\r\n",
        "> Note: if you are running the notebook locally on your desktop, please uncomment the line below and modify the path to your ffmpeg.exe\r\n",
        "\r\n"
      ],
      "metadata": {
        "id": "n4QiJx2HlkMH"
      }
    },
    {
      "cell_type": "code",
      "execution_count": null,
      "source": [
        "from IPython.display import HTML\r\n",
        "\r\n",
        "idx = 0\r\n",
        "\r\n",
        "fig, ax = plt.subplots(facecolor='w', figsize=(12, 7))\r\n",
        "labels=['0', '1', '2', '3', '4', '5', '6', '7', '8','9']\r\n",
        "print(f\"The target label is: {targets[idx]}\")\r\n",
        "\r\n",
        "# plt.rcParams['animation.ffmpeg_path'] = 'C:\\\\path\\\\to\\\\your\\\\ffmpeg.exe'\r\n",
        "\r\n",
        "#  Plot spike count histogram\r\n",
        "anim = splt.spike_count(spk_rec[:, idx].detach().cpu(), fig, ax, labels=labels, \r\n",
        "                        animate=True, interpolate=4)\r\n",
        "\r\n",
        "HTML(anim.to_html5_video())\r\n",
        "# anim.save(\"spike_bar.mp4\")"
      ],
      "outputs": [],
      "metadata": {
        "id": "4HcwxfC6kfy0"
      }
    },
    {
      "cell_type": "markdown",
      "source": [
        "# Conclusion\r\n",
        "You should now have a grasp of the basic features of snnTorch and be able to start running your own experiments. [In the next tutorial](https://snntorch.readthedocs.io/en/latest/tutorials/index.html), we will train a network using a neuromorphic dataset.\r\n"
      ],
      "metadata": {
        "id": "s0dAgWUt2o6E"
      }
    },
    {
      "cell_type": "markdown",
      "source": [
        "# Additional Resources\r\n",
        "* [Check out the snnTorch GitHub project here.](https://github.com/jeshraghian/snntorch)"
      ],
      "metadata": {}
    }
  ]
}